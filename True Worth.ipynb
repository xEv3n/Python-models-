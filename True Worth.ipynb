{
 "cells": [
  {
   "cell_type": "code",
   "execution_count": 39,
   "metadata": {},
   "outputs": [],
   "source": [
    "import yfinance as yf \n",
    "from  datetime import datetime, timedelta \n",
    "from yahooquery import Ticker"
   ]
  },
  {
   "cell_type": "code",
   "execution_count": null,
   "metadata": {},
   "outputs": [
    {
     "name": "stdout",
     "output_type": "stream",
     "text": [
      "TATAMOTORS.NS\n"
     ]
    }
   ],
   "source": [
    "money = float(input(\"Money you want to Invest: s\"))           #The amount of money to invest in the share\n",
    "ticker = str(input(\"Name of the stock : \"))                  # Ask for name of the share\n",
    "\n",
    "if not ticker.endswith(\".NS\"):\n",
    "    ticker = ticker + \".NS\"\n",
    "    print(ticker.upper())\n",
    "\n",
    "elif ticker.endswith(\".NS\"):\n",
    "    print(ticker.upper())\n",
    "        \n",
    "holding_period = float(input(\"How long you are going to hold this Share: \"))\n",
    "\n",
    "# Convert holding period to Yahoo Finance format\n",
    "if holding_period <= 1:\n",
    "    period = \"1y\"\n",
    "elif holding_period <= 2:\n",
    "    period = \"2y\"\n",
    "elif holding_period <= 5:\n",
    "    period = \"5y\"\n",
    "else:\n",
    "    period = \"max\" \n",
    "growth_perspective = float(input(\"What do you think company growth \"))"
   ]
  },
  {
   "cell_type": "code",
   "execution_count": 41,
   "metadata": {},
   "outputs": [
    {
     "name": "stderr",
     "output_type": "stream",
     "text": [
      "[*********************100%***********************]  1 of 1 completed"
     ]
    },
    {
     "name": "stdout",
     "output_type": "stream",
     "text": [
      "Price              Close          High           Low          Open  \\\n",
      "Ticker     TATAMOTORS.NS TATAMOTORS.NS TATAMOTORS.NS TATAMOTORS.NS   \n",
      "Date                                                                 \n",
      "2024-02-14    915.474915    917.119863    891.598583    897.231225   \n",
      "2024-02-15    917.717957    924.148126    913.530865    920.858290   \n",
      "2024-02-16    935.712463    945.881096    921.257071    922.154327   \n",
      "2024-02-19    929.730896    940.049091    928.185677    940.049091   \n",
      "2024-02-20    923.500122    931.774636    917.568476    931.575239   \n",
      "...                  ...           ...           ...           ...   \n",
      "2025-02-07    706.750000    715.950012    703.099976    711.000000   \n",
      "2025-02-10    696.000000    709.900024    693.049988    709.750000   \n",
      "2025-02-11    677.750000    697.000000    675.099976    696.000000   \n",
      "2025-02-12    684.349976    687.549988    667.049988    680.000000   \n",
      "2025-02-13    683.849976    693.150024    679.349976    684.349976   \n",
      "\n",
      "Price             Volume  \n",
      "Ticker     TATAMOTORS.NS  \n",
      "Date                      \n",
      "2024-02-14       6570939  \n",
      "2024-02-15       6430799  \n",
      "2024-02-16      12826164  \n",
      "2024-02-19       4632214  \n",
      "2024-02-20       4733639  \n",
      "...                  ...  \n",
      "2025-02-07      12259132  \n",
      "2025-02-10      10981963  \n",
      "2025-02-11      11939990  \n",
      "2025-02-12      12312424  \n",
      "2025-02-13       8488798  \n",
      "\n",
      "[249 rows x 5 columns]\n"
     ]
    },
    {
     "name": "stderr",
     "output_type": "stream",
     "text": [
      "\n"
     ]
    }
   ],
   "source": [
    "# Collecting data from yfinance\n",
    "\n",
    "end_date = datetime.today() \n",
    "start_date = end_date - timedelta(days= 365 * holding_period)\n",
    "data = yf.download(tickers = ticker, start= start_date, end= end_date)\n",
    "print(data)\n"
   ]
  },
  {
   "cell_type": "code",
   "execution_count": 42,
   "metadata": {},
   "outputs": [
    {
     "name": "stdout",
     "output_type": "stream",
     "text": [
      "\n",
      "tatamotors.NS has issued dividends in the past 1y:\n",
      "\n",
      "Total dividends received during the period: 3.00\n"
     ]
    },
    {
     "name": "stderr",
     "output_type": "stream",
     "text": [
      "C:\\Users\\Harshit Sharma\\AppData\\Roaming\\Python\\Python312\\site-packages\\yahooquery\\utils\\__init__.py:1470: FutureWarning: 'S' is deprecated and will be removed in a future version. Please use 's' instead of 'S'.\n",
      "  has_live_indice = index_utc[-1] >= last_trade - pd.Timedelta(2, \"S\")\n",
      "C:\\Users\\Harshit Sharma\\AppData\\Roaming\\Python\\Python312\\site-packages\\yahooquery\\ticker.py:1333: FutureWarning: A value is trying to be set on a copy of a DataFrame or Series through chained assignment using an inplace method.\n",
      "The behavior will change in pandas 3.0. This inplace method will never work because the intermediate object on which we are setting values always behaves as a copy.\n",
      "\n",
      "For example, when doing 'df[col].method(value, inplace=True)', try using 'df.method({col: value}, inplace=True)' or df[col] = df[col].method(value) instead, to perform the operation inplace on the original object.\n",
      "\n",
      "\n",
      "  df[\"dividends\"].fillna(0, inplace=True)\n"
     ]
    }
   ],
   "source": [
    "# Fetch stock data\n",
    "stock = Ticker(ticker)\n",
    "\n",
    "# Get dividend history\n",
    "dividends = stock.history(period= period)  # Get past year's data\n",
    "\n",
    "# Check if dividends exist\n",
    "total_dividends = 0     \n",
    "\n",
    "if \"dividends\" in dividends.columns:\n",
    "    dividends_data = dividends[\"dividends\"].dropna()\n",
    "\n",
    "    if not dividends_data.empty:\n",
    "        total_dividends = dividends_data.sum()\n",
    "        print(f\"\\n{ticker} has issued dividends in the past {period}:\")\n",
    "        print(f\"\\nTotal dividends received during the period: {total_dividends:.2f}\")\n",
    "    else:\n",
    "        print(f\"\\n{ticker} has NOT issued any dividends in the past {period}.\")\n",
    "else:\n",
    "    print(f\"\\nNo dividend data available for {ticker}.\")\n",
    "\n"
   ]
  },
  {
   "cell_type": "code",
   "execution_count": 82,
   "metadata": {},
   "outputs": [
    {
     "name": "stdout",
     "output_type": "stream",
     "text": [
      "Ticker\n",
      "TATAMOTORS.NS    0.327699\n",
      "Name: 2024-02-14 00:00:00, dtype: float64\n"
     ]
    }
   ],
   "source": [
    "#Calculating Effective Rate \n",
    "\n",
    "effective_rate = ( total_dividends/ data[\"Close\"].iloc[0]) * 100 if total_dividends > 0 else 0\n",
    "\n",
    "print(effective_rate)\n"
   ]
  },
  {
   "cell_type": "code",
   "execution_count": 44,
   "metadata": {},
   "outputs": [
    {
     "name": "stdout",
     "output_type": "stream",
     "text": [
      "Capital Appreciation: -25.30%\n"
     ]
    }
   ],
   "source": [
    "#Capital Appreciation\n",
    "capital_appreciation = (data[\"Close\"].iloc[-1] - data[\"Close\"].iloc[0]) / data[\"Close\"].iloc[0] * 100\n",
    "print(f\"Capital Appreciation: {capital_appreciation.iloc[0]:.2f}%\")\n",
    "\n"
   ]
  },
  {
   "cell_type": "code",
   "execution_count": 105,
   "metadata": {},
   "outputs": [
    {
     "name": "stdout",
     "output_type": "stream",
     "text": [
      "Ticker\n",
      "TATAMOTORS.NS    2.240968\n",
      "dtype: float64\n"
     ]
    }
   ],
   "source": [
    "#Next Year dividend calculation \n",
    "next_year_dividend = data[\"Close\"].iloc[-1] * effective_rate / 100\n",
    "print(next_year_dividend)"
   ]
  },
  {
   "cell_type": "code",
   "execution_count": null,
   "metadata": {},
   "outputs": [
    {
     "name": "stdout",
     "output_type": "stream",
     "text": [
      "Ticker\n",
      "TATAMOTORS.NS    752.234973\n",
      "Name: 2025-02-13 00:00:00, dtype: float64\n"
     ]
    }
   ],
   "source": [
    "#Capital Closing price \n",
    "capital_closing_price = data[\"Close\"].iloc[-1] * (1 + growth_perspective / 100)**holding_period \n",
    "print(capital_closing_price)\n",
    "\n"
   ]
  },
  {
   "cell_type": "code",
   "execution_count": 111,
   "metadata": {},
   "outputs": [
    {
     "name": "stdout",
     "output_type": "stream",
     "text": [
      "Ticker\n",
      "TATAMOTORS.NS    685.887219\n",
      "dtype: float64\n"
     ]
    }
   ],
   "source": [
    "#Mathematical calculation\n",
    "\n",
    "calculating_truevalue = (next_year_dividend / (1+(growth_perspective/100))**holding_period) + (capital_closing_price / (1+(growth_perspective/100))**holding_period)\n",
    "print(calculating_truevalue)\n",
    "\n"
   ]
  },
  {
   "cell_type": "code",
   "execution_count": null,
   "metadata": {},
   "outputs": [],
   "source": []
  }
 ],
 "metadata": {
  "kernelspec": {
   "display_name": "Python 3",
   "language": "python",
   "name": "python3"
  },
  "language_info": {
   "codemirror_mode": {
    "name": "ipython",
    "version": 3
   },
   "file_extension": ".py",
   "mimetype": "text/x-python",
   "name": "python",
   "nbconvert_exporter": "python",
   "pygments_lexer": "ipython3",
   "version": "3.12.4"
  }
 },
 "nbformat": 4,
 "nbformat_minor": 2
}
